{
 "cells": [
  {
   "cell_type": "markdown",
   "metadata": {},
   "source": [
    "# LAB01"
   ]
  },
  {
   "cell_type": "code",
   "execution_count": null,
   "metadata": {},
   "outputs": [],
   "source": [
    "from random import random\n",
    "from functools import reduce\n",
    "from collections import namedtuple\n",
    "from queue import PriorityQueue\n",
    "\n",
    "import numpy as np\n",
    "from tqdm.auto import tqdm"
   ]
  },
  {
   "cell_type": "code",
   "execution_count": null,
   "metadata": {},
   "outputs": [],
   "source": [
    "def generate_sets(t_prob, problem_size, num_sets):\n",
    "  return tuple(np.array([random() < t_prob for _ in range(problem_size)]) for _ in range(num_sets))"
   ]
  },
  {
   "cell_type": "code",
   "execution_count": null,
   "metadata": {},
   "outputs": [],
   "source": [
    "PROBLEM_SIZE = 25\n",
    "NUM_SETS = 20\n",
    "T_PROB = 0.15\n",
    "SETS = generate_sets(T_PROB, PROBLEM_SIZE, NUM_SETS)\n",
    "\n",
    "State = namedtuple('State', ['taken', 'not_taken'])"
   ]
  },
  {
   "cell_type": "code",
   "execution_count": null,
   "metadata": {},
   "outputs": [],
   "source": [
    "def covered(state):\n",
    "  return reduce(\n",
    "    np.logical_or,\n",
    "    [SETS[i] for i in state.taken],\n",
    "    np.array([False for _ in range(PROBLEM_SIZE)]),\n",
    "  )\n",
    "\n",
    "def goal_check(state):\n",
    "  return np.all(covered(state))\n",
    "\n",
    "def print_result(result):\n",
    "  print(f\"{result[0]} solved in {result[1]:,} steps ({len(result[2])} tiles)\")"
   ]
  },
  {
   "cell_type": "markdown",
   "metadata": {},
   "source": [
    "# HEURISTICS"
   ]
  },
  {
   "cell_type": "code",
   "execution_count": null,
   "metadata": {},
   "outputs": [],
   "source": [
    "def h01(state):\n",
    "  already_covered = covered(state)\n",
    "  if np.all(already_covered):\n",
    "    return 0\n",
    "  missing_size = PROBLEM_SIZE - sum(already_covered)\n",
    "  candidates = sorted((sum(np.logical_and(s, np.logical_not(already_covered))) for s in SETS), reverse=True)\n",
    "  taken = 1\n",
    "  while sum(candidates[:taken]) < missing_size:\n",
    "    taken += 1\n",
    "  return taken"
   ]
  },
  {
   "cell_type": "markdown",
   "metadata": {},
   "source": [
    "I tried to take a step forward with the optimistic distance heuristic above.\\\n",
    "With this heuristic (below) I tried to find a way to make the resulting cost more pessimistic, by calculating more precisely how many sets do we have to take to bring our agent to the goal.\\\n",
    "Sadly, this heuristic is suboptimal due to its non admissibility, because it can overestimate the cost from a state to the goal: this is caused by the fact that it takes the best matching as first set: it could possibly be that a worst matching set can lead to a minor cost."
   ]
  },
  {
   "cell_type": "code",
   "execution_count": null,
   "metadata": {},
   "outputs": [],
   "source": [
    "# try to take the information of the candidates down with the function call\n",
    "def h02(state, j=0):\n",
    "  already_covered = covered(state)\n",
    "  if np.all(already_covered):\n",
    "    return 0\n",
    "  candidates = []\n",
    "  for i in range(len(SETS)):\n",
    "    candidates.append((sum(np.logical_and(SETS[i], np.logical_not(already_covered))), i))\n",
    "  # take the best fitting set from the untaken\n",
    "  candidate = max(candidates)[1]\n",
    "  tmp_state = State(\n",
    "      state.taken ^ {candidate},\n",
    "      state.not_taken ^ {candidate},\n",
    "    )\n",
    "  if j>0:\n",
    "    j-=1\n",
    "  if j==0:\n",
    "    taken = 1 + h01(tmp_state)\n",
    "  else:\n",
    "    taken = 1 + h02(tmp_state, j)\n",
    "  return taken"
   ]
  },
  {
   "cell_type": "markdown",
   "metadata": {},
   "source": [
    "# SOLVING"
   ]
  },
  {
   "cell_type": "code",
   "execution_count": null,
   "metadata": {},
   "outputs": [],
   "source": [
    "def greedy(state):\n",
    "  return PROBLEM_SIZE - sum(covered(state))\n",
    "greedy_wrapper = \"greedy\", greedy"
   ]
  },
  {
   "cell_type": "code",
   "execution_count": null,
   "metadata": {},
   "outputs": [],
   "source": [
    "def f_adm(state):\n",
    "  return len(state.taken) + h01(state)\n",
    "f_adm_wrapper = \"f_adm\", f_adm"
   ]
  },
  {
   "cell_type": "code",
   "execution_count": null,
   "metadata": {},
   "outputs": [],
   "source": [
    "def f_not_adm(state):\n",
    "  return len(state.taken) + h02(state)\n",
    "f_not_adm_wrapper = \"f_not_adm\", f_not_adm"
   ]
  },
  {
   "cell_type": "code",
   "execution_count": null,
   "metadata": {},
   "outputs": [],
   "source": [
    "def solve(wrapper):\n",
    "  # unpacking solver characteristics \n",
    "  name = wrapper[0]\n",
    "  f = wrapper[1]\n",
    "\n",
    "  frontier = PriorityQueue()\n",
    "  state = State(set(), set(range(NUM_SETS)))\n",
    "  frontier.put((f(state), state))\n",
    "\n",
    "  counter = 0\n",
    "  _, current_state = frontier.get()\n",
    "  with tqdm(total=None) as pbar:\n",
    "    while not goal_check(current_state):\n",
    "      counter += 1\n",
    "      for action in current_state[1]:\n",
    "        new_state = State(\n",
    "          current_state.taken ^ {action},\n",
    "          current_state.not_taken ^ {action},\n",
    "        )\n",
    "        frontier.put((f(new_state), new_state))\n",
    "      _, current_state = frontier.get()\n",
    "      pbar.update(1)\n",
    "\n",
    "  return name, counter, current_state.taken"
   ]
  },
  {
   "cell_type": "code",
   "execution_count": null,
   "metadata": {},
   "outputs": [],
   "source": [
    "assert goal_check(State(set(range(NUM_SETS)), set())), \"Probelm not solvable\"\n",
    "iter = 10\n",
    "\n",
    "for i in range(iter):\n",
    "  # greedy\n",
    "  print_result(solve(greedy_wrapper))\n",
    "\n",
    "  # admissible heuristic A* \n",
    "  print_result(solve(f_adm_wrapper))\n",
    "\n",
    "  # non admissible heuristic A* \n",
    "  print_result(solve(f_not_adm_wrapper))\n",
    "\n",
    "  if(i < iter-1):\n",
    "    SETS = generate_sets(T_PROB, PROBLEM_SIZE, NUM_SETS)\n",
    "    assert goal_check(State(set(range(NUM_SETS)), set())), \"Probelm not solvable\"\n"
   ]
  },
  {
   "cell_type": "markdown",
   "metadata": {},
   "source": [
    "Besides the suboptimality of the heuristic, it seems to perform pretty well in most of the cases"
   ]
  },
  {
   "cell_type": "code",
   "execution_count": null,
   "metadata": {},
   "outputs": [],
   "source": [
    "# overlapping check utility function (not used)\n",
    "def sum_sol(state):\n",
    "  return np.array([SETS[i] for i in state.taken]).sum(0)"
   ]
  }
 ],
 "metadata": {
  "kernelspec": {
   "display_name": "ci-P-7LqQ3C-py3.11",
   "language": "python",
   "name": "python3"
  },
  "language_info": {
   "codemirror_mode": {
    "name": "ipython",
    "version": 3
   },
   "file_extension": ".py",
   "mimetype": "text/x-python",
   "name": "python",
   "nbconvert_exporter": "python",
   "pygments_lexer": "ipython3",
   "version": "3.11.6"
  }
 },
 "nbformat": 4,
 "nbformat_minor": 2
}
