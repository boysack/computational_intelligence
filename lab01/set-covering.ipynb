{
 "cells": [
  {
   "cell_type": "markdown",
   "metadata": {},
   "source": [
    "# LAB01"
   ]
  },
  {
   "cell_type": "code",
   "execution_count": 62,
   "metadata": {},
   "outputs": [],
   "source": [
    "from random import random\n",
    "from functools import reduce\n",
    "from collections import namedtuple\n",
    "from queue import PriorityQueue\n",
    "\n",
    "import numpy as np\n",
    "from tqdm.auto import tqdm"
   ]
  },
  {
   "cell_type": "code",
   "execution_count": 63,
   "metadata": {},
   "outputs": [],
   "source": [
    "def generate_sets(t_prob, problem_size, num_sets):\n",
    "  return tuple(np.array([random() < t_prob for _ in range(problem_size)]) for _ in range(num_sets))"
   ]
  },
  {
   "cell_type": "code",
   "execution_count": 64,
   "metadata": {},
   "outputs": [],
   "source": [
    "PROBLEM_SIZE = 25\n",
    "NUM_SETS = 20\n",
    "T_PROB = 0.2\n",
    "SETS = generate_sets(T_PROB, PROBLEM_SIZE, NUM_SETS)\n",
    "\n",
    "State = namedtuple('State', ['taken', 'not_taken'])"
   ]
  },
  {
   "cell_type": "code",
   "execution_count": 65,
   "metadata": {},
   "outputs": [],
   "source": [
    "def covered(state):\n",
    "  return reduce(\n",
    "    np.logical_or,\n",
    "    [SETS[i] for i in state.taken],\n",
    "    np.array([False for _ in range(PROBLEM_SIZE)]),\n",
    "  )\n",
    "\n",
    "def goal_check(state):\n",
    "  return np.all(covered(state))\n",
    "\n",
    "def print_result(result):\n",
    "  print(f\"{result[0]} solved in {result[1]:,} steps ({len(result[2])} tiles)\")"
   ]
  },
  {
   "cell_type": "markdown",
   "metadata": {},
   "source": [
    "# HEURISTICS"
   ]
  },
  {
   "cell_type": "code",
   "execution_count": 66,
   "metadata": {},
   "outputs": [],
   "source": [
    "def h01(state):\n",
    "  already_covered = covered(state)\n",
    "  if np.all(already_covered):\n",
    "    return 0\n",
    "  missing_size = PROBLEM_SIZE - sum(already_covered)\n",
    "  candidates = sorted((sum(np.logical_and(s, np.logical_not(already_covered))) for s in SETS), reverse=True)\n",
    "  taken = 1\n",
    "  while sum(candidates[:taken]) < missing_size:\n",
    "    taken += 1\n",
    "  return taken"
   ]
  },
  {
   "cell_type": "markdown",
   "metadata": {},
   "source": [
    "I tried to take a step forward with the optimistic distance heuristic above.\\\n",
    "With this heuristic (below) I tried to find a way to make the resulting cost more pessimistic, by calculating more precisely how many sets do we have to take to bring our agent to the goal.\\\n",
    "Sadly, this heuristic is suboptimal due to its non admissibility, because it can overestimate the cost from a state to the goal: this is caused by the fact that it takes the best matching as first set, because it could possibly happend that a worst matching set can lead to a minor cost."
   ]
  },
  {
   "cell_type": "code",
   "execution_count": 67,
   "metadata": {},
   "outputs": [],
   "source": [
    "def h02(state, j=0):\n",
    "  already_covered = covered(state)\n",
    "  if np.all(already_covered):\n",
    "    return 0\n",
    "  candidates = []\n",
    "  for i in range(len(SETS)):\n",
    "    candidates.append((sum(np.logical_and(SETS[i], np.logical_not(already_covered))), i))\n",
    "  # take the best fitting set from the untaken\n",
    "  candidate = max(candidates)[1]\n",
    "  tmp_state = State(\n",
    "      state.taken ^ {candidate},\n",
    "      state.not_taken ^ {candidate},\n",
    "    )\n",
    "  if j>0:\n",
    "    j-=1\n",
    "  if j==0:\n",
    "    taken = 1 + h01(tmp_state)\n",
    "  else:\n",
    "    taken = 1 + h02(tmp_state, j)\n",
    "  return taken"
   ]
  },
  {
   "cell_type": "markdown",
   "metadata": {},
   "source": [
    "# SOLVING"
   ]
  },
  {
   "cell_type": "code",
   "execution_count": 68,
   "metadata": {},
   "outputs": [],
   "source": [
    "def greedy(state):\n",
    "  return PROBLEM_SIZE - sum(covered(state))\n",
    "greedy_wrapper = \"greedy\", greedy"
   ]
  },
  {
   "cell_type": "code",
   "execution_count": 69,
   "metadata": {},
   "outputs": [],
   "source": [
    "def f_adm(state):\n",
    "  return len(state.taken) + h01(state)\n",
    "f_adm_wrapper = \"f_adm\", f_adm"
   ]
  },
  {
   "cell_type": "code",
   "execution_count": 70,
   "metadata": {},
   "outputs": [],
   "source": [
    "def f_not_adm_00(state):\n",
    "  return len(state.taken) + h02(state)\n",
    "f_not_adm_00_wrapper = \"f_not_adm_00\", f_not_adm_00"
   ]
  },
  {
   "cell_type": "code",
   "execution_count": 71,
   "metadata": {},
   "outputs": [],
   "source": [
    "def f_not_adm_01(state):\n",
    "  return len(state.taken) + h02(state, 1)\n",
    "f_not_adm_01_wrapper = \"f_not_adm_01\", f_not_adm_01"
   ]
  },
  {
   "cell_type": "code",
   "execution_count": 72,
   "metadata": {},
   "outputs": [],
   "source": [
    "def solve(wrapper):\n",
    "  # unpacking solver characteristics \n",
    "  name = wrapper[0]\n",
    "  f = wrapper[1]\n",
    "\n",
    "  frontier = PriorityQueue()\n",
    "  state = State(set(), set(range(NUM_SETS)))\n",
    "  frontier.put((f(state), state))\n",
    "\n",
    "  counter = 0\n",
    "  _, current_state = frontier.get()\n",
    "  with tqdm(total=None) as pbar:\n",
    "    while not goal_check(current_state):\n",
    "      counter += 1\n",
    "      for action in current_state[1]:\n",
    "        new_state = State(\n",
    "          current_state.taken ^ {action},\n",
    "          current_state.not_taken ^ {action},\n",
    "        )\n",
    "        frontier.put((f(new_state), new_state))\n",
    "      _, current_state = frontier.get()\n",
    "      pbar.update(1)\n",
    "\n",
    "  return name, counter, current_state.taken"
   ]
  },
  {
   "cell_type": "code",
   "execution_count": 73,
   "metadata": {},
   "outputs": [
    {
     "data": {
      "application/vnd.jupyter.widget-view+json": {
       "model_id": "d3ed938907514b189e073d5081b1a280",
       "version_major": 2,
       "version_minor": 0
      },
      "text/plain": [
       "0it [00:00, ?it/s]"
      ]
     },
     "metadata": {},
     "output_type": "display_data"
    },
    {
     "name": "stdout",
     "output_type": "stream",
     "text": [
      "greedy solved in 6 steps (6 tiles)\n"
     ]
    },
    {
     "data": {
      "application/vnd.jupyter.widget-view+json": {
       "model_id": "119a9ad9c5764a05a4bc36df77734397",
       "version_major": 2,
       "version_minor": 0
      },
      "text/plain": [
       "0it [00:00, ?it/s]"
      ]
     },
     "metadata": {},
     "output_type": "display_data"
    },
    {
     "name": "stdout",
     "output_type": "stream",
     "text": [
      "f_adm solved in 2,033 steps (6 tiles)\n"
     ]
    },
    {
     "data": {
      "application/vnd.jupyter.widget-view+json": {
       "model_id": "3cadfc1a428e4a98806a40bd9d461d4d",
       "version_major": 2,
       "version_minor": 0
      },
      "text/plain": [
       "0it [00:00, ?it/s]"
      ]
     },
     "metadata": {},
     "output_type": "display_data"
    },
    {
     "name": "stdout",
     "output_type": "stream",
     "text": [
      "f_not_adm_00 solved in 245 steps (6 tiles)\n"
     ]
    },
    {
     "data": {
      "application/vnd.jupyter.widget-view+json": {
       "model_id": "83e6684a7f6447f1868860e868a6493e",
       "version_major": 2,
       "version_minor": 0
      },
      "text/plain": [
       "0it [00:00, ?it/s]"
      ]
     },
     "metadata": {},
     "output_type": "display_data"
    },
    {
     "name": "stdout",
     "output_type": "stream",
     "text": [
      "f_not_adm_01 solved in 245 steps (6 tiles)\n"
     ]
    },
    {
     "data": {
      "application/vnd.jupyter.widget-view+json": {
       "model_id": "640bbcf7cd9f4795b57fb99de57f651b",
       "version_major": 2,
       "version_minor": 0
      },
      "text/plain": [
       "0it [00:00, ?it/s]"
      ]
     },
     "metadata": {},
     "output_type": "display_data"
    },
    {
     "name": "stdout",
     "output_type": "stream",
     "text": [
      "greedy solved in 6 steps (6 tiles)\n"
     ]
    },
    {
     "data": {
      "application/vnd.jupyter.widget-view+json": {
       "model_id": "5035b1dd6d714c41a25231a356329e2c",
       "version_major": 2,
       "version_minor": 0
      },
      "text/plain": [
       "0it [00:00, ?it/s]"
      ]
     },
     "metadata": {},
     "output_type": "display_data"
    },
    {
     "name": "stdout",
     "output_type": "stream",
     "text": [
      "f_adm solved in 2,033 steps (6 tiles)\n"
     ]
    },
    {
     "data": {
      "application/vnd.jupyter.widget-view+json": {
       "model_id": "76fb6f453da0491ba2260fb958acef2e",
       "version_major": 2,
       "version_minor": 0
      },
      "text/plain": [
       "0it [00:00, ?it/s]"
      ]
     },
     "metadata": {},
     "output_type": "display_data"
    },
    {
     "name": "stdout",
     "output_type": "stream",
     "text": [
      "f_not_adm_00 solved in 245 steps (6 tiles)\n"
     ]
    },
    {
     "data": {
      "application/vnd.jupyter.widget-view+json": {
       "model_id": "bb4321c4547e406f87f476cdccacff1d",
       "version_major": 2,
       "version_minor": 0
      },
      "text/plain": [
       "0it [00:00, ?it/s]"
      ]
     },
     "metadata": {},
     "output_type": "display_data"
    },
    {
     "name": "stdout",
     "output_type": "stream",
     "text": [
      "f_not_adm_01 solved in 245 steps (6 tiles)\n"
     ]
    },
    {
     "data": {
      "application/vnd.jupyter.widget-view+json": {
       "model_id": "0d6913f5941b4b1a8e1776074bd006a2",
       "version_major": 2,
       "version_minor": 0
      },
      "text/plain": [
       "0it [00:00, ?it/s]"
      ]
     },
     "metadata": {},
     "output_type": "display_data"
    },
    {
     "name": "stdout",
     "output_type": "stream",
     "text": [
      "greedy solved in 6 steps (6 tiles)\n"
     ]
    },
    {
     "data": {
      "application/vnd.jupyter.widget-view+json": {
       "model_id": "e1b9d6dce6984d84b0e87ec5dc0c958b",
       "version_major": 2,
       "version_minor": 0
      },
      "text/plain": [
       "0it [00:00, ?it/s]"
      ]
     },
     "metadata": {},
     "output_type": "display_data"
    },
    {
     "ename": "KeyboardInterrupt",
     "evalue": "",
     "output_type": "error",
     "traceback": [
      "\u001b[0;31m---------------------------------------------------------------------------\u001b[0m",
      "\u001b[0;31mKeyboardInterrupt\u001b[0m                         Traceback (most recent call last)",
      "\u001b[1;32m/Users/claudio/Documents/turin/polito/anno II/semestre I/computational intelligence/my_git/computational_intelligence/lab01/set-covering.ipynb Cell 16\u001b[0m line \u001b[0;36m9\n\u001b[1;32m      <a href='vscode-notebook-cell:/Users/claudio/Documents/turin/polito/anno%20II/semestre%20I/computational%20intelligence/my_git/computational_intelligence/lab01/set-covering.ipynb#X20sZmlsZQ%3D%3D?line=5'>6</a>\u001b[0m print_result(solve(greedy_wrapper))\n\u001b[1;32m      <a href='vscode-notebook-cell:/Users/claudio/Documents/turin/polito/anno%20II/semestre%20I/computational%20intelligence/my_git/computational_intelligence/lab01/set-covering.ipynb#X20sZmlsZQ%3D%3D?line=7'>8</a>\u001b[0m \u001b[39m# admissible heuristic A* \u001b[39;00m\n\u001b[0;32m----> <a href='vscode-notebook-cell:/Users/claudio/Documents/turin/polito/anno%20II/semestre%20I/computational%20intelligence/my_git/computational_intelligence/lab01/set-covering.ipynb#X20sZmlsZQ%3D%3D?line=8'>9</a>\u001b[0m print_result(solve(f_adm_wrapper))\n\u001b[1;32m     <a href='vscode-notebook-cell:/Users/claudio/Documents/turin/polito/anno%20II/semestre%20I/computational%20intelligence/my_git/computational_intelligence/lab01/set-covering.ipynb#X20sZmlsZQ%3D%3D?line=10'>11</a>\u001b[0m \u001b[39m# non admissible heuristic A* with j=0\u001b[39;00m\n\u001b[1;32m     <a href='vscode-notebook-cell:/Users/claudio/Documents/turin/polito/anno%20II/semestre%20I/computational%20intelligence/my_git/computational_intelligence/lab01/set-covering.ipynb#X20sZmlsZQ%3D%3D?line=11'>12</a>\u001b[0m print_result(solve(f_not_adm_00_wrapper))\n",
      "\u001b[1;32m/Users/claudio/Documents/turin/polito/anno II/semestre I/computational intelligence/my_git/computational_intelligence/lab01/set-covering.ipynb Cell 16\u001b[0m line \u001b[0;36m2\n\u001b[1;32m     <a href='vscode-notebook-cell:/Users/claudio/Documents/turin/polito/anno%20II/semestre%20I/computational%20intelligence/my_git/computational_intelligence/lab01/set-covering.ipynb#X20sZmlsZQ%3D%3D?line=14'>15</a>\u001b[0m \u001b[39mfor\u001b[39;00m action \u001b[39min\u001b[39;00m current_state[\u001b[39m1\u001b[39m]:\n\u001b[1;32m     <a href='vscode-notebook-cell:/Users/claudio/Documents/turin/polito/anno%20II/semestre%20I/computational%20intelligence/my_git/computational_intelligence/lab01/set-covering.ipynb#X20sZmlsZQ%3D%3D?line=15'>16</a>\u001b[0m   new_state \u001b[39m=\u001b[39m State(\n\u001b[1;32m     <a href='vscode-notebook-cell:/Users/claudio/Documents/turin/polito/anno%20II/semestre%20I/computational%20intelligence/my_git/computational_intelligence/lab01/set-covering.ipynb#X20sZmlsZQ%3D%3D?line=16'>17</a>\u001b[0m     current_state\u001b[39m.\u001b[39mtaken \u001b[39m^\u001b[39m {action},\n\u001b[1;32m     <a href='vscode-notebook-cell:/Users/claudio/Documents/turin/polito/anno%20II/semestre%20I/computational%20intelligence/my_git/computational_intelligence/lab01/set-covering.ipynb#X20sZmlsZQ%3D%3D?line=17'>18</a>\u001b[0m     current_state\u001b[39m.\u001b[39mnot_taken \u001b[39m^\u001b[39m {action},\n\u001b[1;32m     <a href='vscode-notebook-cell:/Users/claudio/Documents/turin/polito/anno%20II/semestre%20I/computational%20intelligence/my_git/computational_intelligence/lab01/set-covering.ipynb#X20sZmlsZQ%3D%3D?line=18'>19</a>\u001b[0m   )\n\u001b[0;32m---> <a href='vscode-notebook-cell:/Users/claudio/Documents/turin/polito/anno%20II/semestre%20I/computational%20intelligence/my_git/computational_intelligence/lab01/set-covering.ipynb#X20sZmlsZQ%3D%3D?line=19'>20</a>\u001b[0m   frontier\u001b[39m.\u001b[39mput((f(new_state), new_state))\n\u001b[1;32m     <a href='vscode-notebook-cell:/Users/claudio/Documents/turin/polito/anno%20II/semestre%20I/computational%20intelligence/my_git/computational_intelligence/lab01/set-covering.ipynb#X20sZmlsZQ%3D%3D?line=20'>21</a>\u001b[0m _, current_state \u001b[39m=\u001b[39m frontier\u001b[39m.\u001b[39mget()\n\u001b[1;32m     <a href='vscode-notebook-cell:/Users/claudio/Documents/turin/polito/anno%20II/semestre%20I/computational%20intelligence/my_git/computational_intelligence/lab01/set-covering.ipynb#X20sZmlsZQ%3D%3D?line=21'>22</a>\u001b[0m pbar\u001b[39m.\u001b[39mupdate(\u001b[39m1\u001b[39m)\n",
      "\u001b[1;32m/Users/claudio/Documents/turin/polito/anno II/semestre I/computational intelligence/my_git/computational_intelligence/lab01/set-covering.ipynb Cell 16\u001b[0m line \u001b[0;36m2\n\u001b[1;32m      <a href='vscode-notebook-cell:/Users/claudio/Documents/turin/polito/anno%20II/semestre%20I/computational%20intelligence/my_git/computational_intelligence/lab01/set-covering.ipynb#X20sZmlsZQ%3D%3D?line=0'>1</a>\u001b[0m \u001b[39mdef\u001b[39;00m \u001b[39mf_adm\u001b[39m(state):\n\u001b[0;32m----> <a href='vscode-notebook-cell:/Users/claudio/Documents/turin/polito/anno%20II/semestre%20I/computational%20intelligence/my_git/computational_intelligence/lab01/set-covering.ipynb#X20sZmlsZQ%3D%3D?line=1'>2</a>\u001b[0m   \u001b[39mreturn\u001b[39;00m \u001b[39mlen\u001b[39m(state\u001b[39m.\u001b[39mtaken) \u001b[39m+\u001b[39m h01(state)\n",
      "\u001b[1;32m/Users/claudio/Documents/turin/polito/anno II/semestre I/computational intelligence/my_git/computational_intelligence/lab01/set-covering.ipynb Cell 16\u001b[0m line \u001b[0;36m6\n\u001b[1;32m      <a href='vscode-notebook-cell:/Users/claudio/Documents/turin/polito/anno%20II/semestre%20I/computational%20intelligence/my_git/computational_intelligence/lab01/set-covering.ipynb#X20sZmlsZQ%3D%3D?line=3'>4</a>\u001b[0m   \u001b[39mreturn\u001b[39;00m \u001b[39m0\u001b[39m\n\u001b[1;32m      <a href='vscode-notebook-cell:/Users/claudio/Documents/turin/polito/anno%20II/semestre%20I/computational%20intelligence/my_git/computational_intelligence/lab01/set-covering.ipynb#X20sZmlsZQ%3D%3D?line=4'>5</a>\u001b[0m missing_size \u001b[39m=\u001b[39m PROBLEM_SIZE \u001b[39m-\u001b[39m \u001b[39msum\u001b[39m(already_covered)\n\u001b[0;32m----> <a href='vscode-notebook-cell:/Users/claudio/Documents/turin/polito/anno%20II/semestre%20I/computational%20intelligence/my_git/computational_intelligence/lab01/set-covering.ipynb#X20sZmlsZQ%3D%3D?line=5'>6</a>\u001b[0m candidates \u001b[39m=\u001b[39m \u001b[39msorted\u001b[39m((\u001b[39msum\u001b[39m(np\u001b[39m.\u001b[39mlogical_and(s, np\u001b[39m.\u001b[39mlogical_not(already_covered))) \u001b[39mfor\u001b[39;00m s \u001b[39min\u001b[39;00m SETS), reverse\u001b[39m=\u001b[39m\u001b[39mTrue\u001b[39;00m)\n\u001b[1;32m      <a href='vscode-notebook-cell:/Users/claudio/Documents/turin/polito/anno%20II/semestre%20I/computational%20intelligence/my_git/computational_intelligence/lab01/set-covering.ipynb#X20sZmlsZQ%3D%3D?line=6'>7</a>\u001b[0m taken \u001b[39m=\u001b[39m \u001b[39m1\u001b[39m\n\u001b[1;32m      <a href='vscode-notebook-cell:/Users/claudio/Documents/turin/polito/anno%20II/semestre%20I/computational%20intelligence/my_git/computational_intelligence/lab01/set-covering.ipynb#X20sZmlsZQ%3D%3D?line=7'>8</a>\u001b[0m \u001b[39mwhile\u001b[39;00m \u001b[39msum\u001b[39m(candidates[:taken]) \u001b[39m<\u001b[39m missing_size:\n",
      "\u001b[1;32m/Users/claudio/Documents/turin/polito/anno II/semestre I/computational intelligence/my_git/computational_intelligence/lab01/set-covering.ipynb Cell 16\u001b[0m line \u001b[0;36m6\n\u001b[1;32m      <a href='vscode-notebook-cell:/Users/claudio/Documents/turin/polito/anno%20II/semestre%20I/computational%20intelligence/my_git/computational_intelligence/lab01/set-covering.ipynb#X20sZmlsZQ%3D%3D?line=3'>4</a>\u001b[0m   \u001b[39mreturn\u001b[39;00m \u001b[39m0\u001b[39m\n\u001b[1;32m      <a href='vscode-notebook-cell:/Users/claudio/Documents/turin/polito/anno%20II/semestre%20I/computational%20intelligence/my_git/computational_intelligence/lab01/set-covering.ipynb#X20sZmlsZQ%3D%3D?line=4'>5</a>\u001b[0m missing_size \u001b[39m=\u001b[39m PROBLEM_SIZE \u001b[39m-\u001b[39m \u001b[39msum\u001b[39m(already_covered)\n\u001b[0;32m----> <a href='vscode-notebook-cell:/Users/claudio/Documents/turin/polito/anno%20II/semestre%20I/computational%20intelligence/my_git/computational_intelligence/lab01/set-covering.ipynb#X20sZmlsZQ%3D%3D?line=5'>6</a>\u001b[0m candidates \u001b[39m=\u001b[39m \u001b[39msorted\u001b[39m((\u001b[39msum\u001b[39m(np\u001b[39m.\u001b[39mlogical_and(s, np\u001b[39m.\u001b[39mlogical_not(already_covered))) \u001b[39mfor\u001b[39;00m s \u001b[39min\u001b[39;00m SETS), reverse\u001b[39m=\u001b[39m\u001b[39mTrue\u001b[39;00m)\n\u001b[1;32m      <a href='vscode-notebook-cell:/Users/claudio/Documents/turin/polito/anno%20II/semestre%20I/computational%20intelligence/my_git/computational_intelligence/lab01/set-covering.ipynb#X20sZmlsZQ%3D%3D?line=6'>7</a>\u001b[0m taken \u001b[39m=\u001b[39m \u001b[39m1\u001b[39m\n\u001b[1;32m      <a href='vscode-notebook-cell:/Users/claudio/Documents/turin/polito/anno%20II/semestre%20I/computational%20intelligence/my_git/computational_intelligence/lab01/set-covering.ipynb#X20sZmlsZQ%3D%3D?line=7'>8</a>\u001b[0m \u001b[39mwhile\u001b[39;00m \u001b[39msum\u001b[39m(candidates[:taken]) \u001b[39m<\u001b[39m missing_size:\n",
      "\u001b[0;31mKeyboardInterrupt\u001b[0m: "
     ]
    }
   ],
   "source": [
    "assert goal_check(State(set(range(NUM_SETS)), set())), \"Probelm not solvable\"\n",
    "iter = 10\n",
    "\n",
    "for i in range(iter):\n",
    "  # greedy\n",
    "  print_result(solve(greedy_wrapper))\n",
    "\n",
    "  # admissible heuristic A* \n",
    "  print_result(solve(f_adm_wrapper))\n",
    "\n",
    "  # non admissible heuristic A* with j=0\n",
    "  print_result(solve(f_not_adm_00_wrapper))\n",
    "\n",
    "  # non admissible heuristic A* with j=1\n",
    "  print_result(solve(f_not_adm_01_wrapper))\n",
    "\n",
    "  if(i < iter-1):\n",
    "    SETS = generate_sets(T_PROB, PROBLEM_SIZE, NUM_SETS)\n",
    "    assert goal_check(State(set(range(NUM_SETS)), set())), \"Probelm not solvable\"\n"
   ]
  },
  {
   "cell_type": "markdown",
   "metadata": {},
   "source": [
    "Besides the suboptimality of the heuristic, it seems to perform pretty well in most of the cases"
   ]
  },
  {
   "cell_type": "code",
   "execution_count": null,
   "metadata": {},
   "outputs": [],
   "source": [
    "# overlapping check utility function (not used)\n",
    "def sum_sol(state):\n",
    "  return np.array([SETS[i] for i in state.taken]).sum(0)"
   ]
  }
 ],
 "metadata": {
  "kernelspec": {
   "display_name": "ci-P-7LqQ3C-py3.11",
   "language": "python",
   "name": "python3"
  },
  "language_info": {
   "codemirror_mode": {
    "name": "ipython",
    "version": 3
   },
   "file_extension": ".py",
   "mimetype": "text/x-python",
   "name": "python",
   "nbconvert_exporter": "python",
   "pygments_lexer": "ipython3",
   "version": "3.11.6"
  }
 },
 "nbformat": 4,
 "nbformat_minor": 2
}
