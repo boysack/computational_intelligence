{
 "cells": [
  {
   "cell_type": "markdown",
   "metadata": {
    "pycharm": {
     "name": "#%%\n"
    }
   },
   "source": [
    "# Lab 2: ES\n",
    "\n",
    "## Task\n",
    "\n",
    "Write agents able to play [*Nim*](https://en.wikipedia.org/wiki/Nim), with an arbitrary number of rows and an upper bound $k$ on the number of objects that can be removed in a turn (a.k.a., *subtraction game*).\n",
    "\n",
    "The goal of the game is to **avoid** taking the last object.\n",
    "\n",
    "* Task2.1: An agent using fixed rules based on *nim-sum* (i.e., an *expert system*)\n",
    "* Task2.2: An agent using evolved rules using ES\n"
   ]
  },
  {
   "cell_type": "code",
   "execution_count": 2,
   "metadata": {},
   "outputs": [],
   "source": [
    "import logging\n",
    "from pprint import pformat\n",
    "from collections import namedtuple\n",
    "import random\n",
    "from copy import deepcopy\n",
    "import numpy as np\n"
   ]
  },
  {
   "cell_type": "markdown",
   "metadata": {},
   "source": [
    "## The *Nim* and *Nimply* classes"
   ]
  },
  {
   "cell_type": "code",
   "execution_count": 3,
   "metadata": {},
   "outputs": [],
   "source": [
    "Nimply = namedtuple(\"Nimply\", \"row, num_objects\")"
   ]
  },
  {
   "cell_type": "code",
   "execution_count": 4,
   "metadata": {},
   "outputs": [],
   "source": [
    "class Nim:\n",
    "    def __init__(self, num_rows: int, k: int = None) -> None:\n",
    "        self._rows = [i * 2 + 1 for i in range(num_rows)]\n",
    "        self._k = k\n",
    "\n",
    "    def __bool__(self):\n",
    "        return sum(self._rows) > 0\n",
    "\n",
    "    def __str__(self):\n",
    "        return \"<\" + \" \".join(str(_) for _ in self._rows) + \">\"\n",
    "\n",
    "    @property\n",
    "    def rows(self) -> tuple:\n",
    "        return tuple(self._rows)\n",
    "\n",
    "    def nimming(self, ply: Nimply) -> None:\n",
    "        row, num_objects = ply\n",
    "        assert self._rows[row] >= num_objects\n",
    "        assert self._k is None or num_objects <= self._k\n",
    "        self._rows[row] -= num_objects\n"
   ]
  },
  {
   "cell_type": "markdown",
   "metadata": {},
   "source": [
    "## Sample (and silly) startegies "
   ]
  },
  {
   "cell_type": "code",
   "execution_count": 5,
   "metadata": {},
   "outputs": [],
   "source": [
    "def pure_random(state: Nim) -> Nimply:\n",
    "    \"\"\"A completely random move\"\"\"\n",
    "    row = random.choice([r for r, c in enumerate(state.rows) if c > 0])\n",
    "    num_objects = random.randint(1, state.rows[row])\n",
    "    return Nimply(row, num_objects)\n"
   ]
  },
  {
   "cell_type": "code",
   "execution_count": 6,
   "metadata": {},
   "outputs": [],
   "source": [
    "def gabriele(state: Nim) -> Nimply:\n",
    "    \"\"\"Pick always the maximum possible number of the lowest row\"\"\"\n",
    "    possible_moves = [(r, o) for r, c in enumerate(state.rows) for o in range(1, c + 1)]\n",
    "    return Nimply(*max(possible_moves, key=lambda m: (-m[0], m[1])))\n"
   ]
  },
  {
   "cell_type": "code",
   "execution_count": 7,
   "metadata": {},
   "outputs": [],
   "source": [
    "def nim_sum(state: Nim) -> int:\n",
    "    tmp = np.array([tuple(int(x) for x in f\"{c:032b}\") for c in state.rows])\n",
    "    xor = tmp.sum(axis=0) % 2\n",
    "    return int(\"\".join(str(_) for _ in xor), base=2)\n",
    "\n",
    "def analize(raw: Nim) -> dict:\n",
    "    cooked = dict()\n",
    "    cooked[\"possible_moves\"] = dict()\n",
    "    for ply in (Nimply(r, o) for r, c in enumerate(raw.rows) for o in range(1, c + 1)):\n",
    "        tmp = deepcopy(raw)\n",
    "        tmp.nimming(ply)\n",
    "        cooked[\"possible_moves\"][ply] = nim_sum(tmp)\n",
    "    return cooked\n",
    "\n",
    "def optimal(state: Nim) -> Nimply:\n",
    "    analysis = analize(state)\n",
    "    logging.debug(f\"analysis:\\n{pformat(analysis)}\")\n",
    "    spicy_moves = [ply for ply, ns in analysis[\"possible_moves\"].items() if ns != 0]\n",
    "    if not spicy_moves:\n",
    "        spicy_moves = list(analysis[\"possible_moves\"].keys())\n",
    "    ply = random.choice(spicy_moves)\n",
    "    return ply"
   ]
  },
  {
   "cell_type": "markdown",
   "metadata": {},
   "source": [
    "Strategy of taking as \"spicy_moves\" those with nim_sum!=0 doesn't always work in misére play (we have to wait our opponent to do a mistake).\\\n",
    "It works always with normal play (if we take as \"spicy_moves\" those with nim_sum==0), since the final move to win would be taking the nim_sum to 0: this is always possible from an unbalanced position (nim_sum!=0), but not possible from a balanced position (nim_sum==0), since in this position the only thing to do will be to change nim_sum again to a number different from 0.\\\n",
    "Said that, to win we always try to keep our moves with nim_sum==0 (proovable that is always possible from a nim_sum!=0), so that next move will have nim_sum!=0, so we can arrive at the end of the game as a winner!"
   ]
  },
  {
   "cell_type": "markdown",
   "metadata": {},
   "source": [
    "## My strategy"
   ]
  },
  {
   "cell_type": "code",
   "execution_count": 8,
   "metadata": {},
   "outputs": [],
   "source": [
    "# one parameter strategy: percentage of leave-one rows\n",
    "def leave_one_strategy(params:list, state: Nim) -> Nimply:\n",
    "  needed = round(params[0] * len(state.rows))\n",
    "\n",
    "  ones = sum([1 for _ in state.rows if _ == 1])\n",
    "  gt_ones = sum([1 for _ in state.rows if _ > 1])\n",
    "\n",
    "  r = 0\n",
    "  while True:\n",
    "    r = round(np.random.rand() * (len(state.rows)-1))\n",
    "    if (state.rows[r] >= 1):\n",
    "      break\n",
    "\n",
    "  if ones < needed and gt_ones != 0 and needed <= (ones+gt_ones):\n",
    "    # generate ones until it's possible (bounded)\n",
    "    while(state.rows[r] <= 1):\n",
    "      r = round(np.random.rand() * (len(state.rows)-1))\n",
    "    return Nimply(r, state.rows[r]-1)\n",
    "  elif ones >= needed and gt_ones != 0 and needed <= (ones+gt_ones):\n",
    "    # set to zero gt_ones\n",
    "    while(state.rows[r] <= 1):\n",
    "      r = round(np.random.rand() * (len(state.rows)-1))\n",
    "    return Nimply(r, state.rows[r])\n",
    "  else:\n",
    "    # set to zero all\n",
    "    return Nimply(r, state.rows[r])"
   ]
  },
  {
   "cell_type": "code",
   "execution_count": 9,
   "metadata": {},
   "outputs": [],
   "source": [
    "class es:\n",
    "  def __init__(self, params: list, l: int, s: float, eras: int, n_r: int, player_strategy: callable, opponent_strategy: callable):\n",
    "    self.params = params\n",
    "    self.l = l\n",
    "    self.s = s\n",
    "    self.eras = eras\n",
    "    self.era = 0\n",
    "    self.n_r = n_r\n",
    "    self.player_strategy = player_strategy\n",
    "    self.opponent_strategy = opponent_strategy\n",
    "\n",
    "  def fitness(self, params:list, rows: int, iterations: int):\n",
    "    wins = 0\n",
    "    for _ in range(iterations):\n",
    "      strategy = (self.player_strategy, self.opponent_strategy)\n",
    "      nim = Nim(rows)\n",
    "      args = ([params, nim],[nim])\n",
    "      player = 0\n",
    "      while nim:\n",
    "          ply = strategy[player](*args[player])\n",
    "          nim.nimming(ply)\n",
    "          player = 1 - player\n",
    "      if (player == 0):\n",
    "        wins += 1\n",
    "      self.r = 0\n",
    "    return wins/iterations\n",
    "  \n",
    "  def generate_offspring(self) -> list:\n",
    "    offspring = []\n",
    "    for _ in range(self.l):\n",
    "      params = np.random.normal(loc=self.params, scale=self.s)\n",
    "      for i, _ in enumerate(params):\n",
    "        while params[i] > 1 or params[i] < 0:\n",
    "          params[i] = np.random.normal(loc=params[i], scale=self.s)\n",
    "      offspring.append(params)\n",
    "    return offspring\n",
    "\n",
    "# (1+1)-es\n",
    "class opo_es(es):\n",
    "  def __init__(self, params: list, s: float, eras: int, n_r: int, player_strategy: callable, opponent_strategy: callable):\n",
    "    super().__init__(params, 1, s, eras, n_r, player_strategy, opponent_strategy)\n",
    "\n",
    "  def optimize(self):\n",
    "    for era in range(self.eras):\n",
    "      if (era == 0):\n",
    "        for i, _ in enumerate(self.params):\n",
    "          self.params[i] = np.random.rand()\n",
    "        self.current_fitness = self.fitness(self.params, self.n_r, 1000)\n",
    "        print(f\"current_fitness: {self.current_fitness}, current_params: {self.params}\")\n",
    "      else:\n",
    "        new_offspring = self.generate_offspring()[0]\n",
    "        new_fitness = self.fitness(new_offspring, self.n_r, 1000)\n",
    "        if new_fitness > self.current_fitness:\n",
    "          self.params = new_offspring\n",
    "          self.current_fitness = new_fitness\n",
    "          print(f\"current_fitness: {self.current_fitness}, current_params: {self.params}\")\n",
    "\n",
    "  def __str__(self) -> str:\n",
    "    return f\"(1+1)-es | l:1 | s:{self.s} | e:{self.eras} | r:{self.n_r} | final_p: {self.params} | final_fit: {self.current_fitness}\"\n",
    "  \n",
    "# (1+lambda)-es\n",
    "class opl_es(es):\n",
    "  def __init__(self, params: list, l:int, s: float, eras: int, n_r: int, player_strategy: callable, opponent_strategy: callable):\n",
    "    super().__init__(params, l, s, eras, n_r, player_strategy, opponent_strategy)\n",
    "\n",
    "  def optimize(self):\n",
    "    for era in range(self.eras):\n",
    "      if era == 0:\n",
    "        for i, _ in enumerate(self.params):\n",
    "          self.params[i] = np.random.rand()\n",
    "        self.current_fitness = self.fitness(self.params, self.n_r, 1000)\n",
    "        print(f\"current_fitness: {self.current_fitness}, current_params: {self.params}\")\n",
    "      else:\n",
    "        new_offspring = self.generate_offspring()\n",
    "        new_fitness = [self.fitness(n_o, self.n_r, 1000) for n_o in new_offspring]\n",
    "        change = False\n",
    "        for i in range(len(new_fitness)):\n",
    "          if new_fitness[i] > self.current_fitness:\n",
    "            change = True\n",
    "            self.params = new_offspring[i]\n",
    "            self.current_fitness = new_fitness[i]\n",
    "        if change:\n",
    "          print(f\"current_fitness: {self.current_fitness}, current_params: {self.params}\")\n",
    "\n",
    "  def __str__(self) -> str:\n",
    "    return f\"(1+l)-es | l:{self.l} | s:{self.s} | e:{self.eras} | r:{self.n_r} | final_p: {self.params} | final_fit: {self.current_fitness}\"\n",
    "  \n",
    "# (1,lambda)-es\n",
    "class ocl_es(es):\n",
    "  def __init__(self, params: list, l:int, s: float, eras: int, n_r: int, player_strategy: callable, opponent_strategy: callable):\n",
    "    super().__init__(params, l, s, eras, n_r, player_strategy, opponent_strategy)\n",
    "\n",
    "  def optimize(self):\n",
    "    for era in range(self.eras):\n",
    "      if era == 0:\n",
    "        for i, _ in enumerate(self.params):\n",
    "          self.params[i] = np.random.rand()\n",
    "        self.current_fitness = self.fitness(self.params, self.n_r, 1000)\n",
    "      else:\n",
    "        new_offspring = self.generate_offspring()\n",
    "        new_fitness = [self.fitness(n_o, self.n_r, 1000) for n_o in new_offspring]\n",
    "        id_max = max(range(len(new_fitness)), key=new_fitness.__getitem__)\n",
    "        self.current_fitness = new_fitness[id_max]\n",
    "        self.params = new_offspring[id_max]\n",
    "      print(f\"current_fitness: {self.current_fitness}, current_params: {self.params}\")\n",
    "\n",
    "  def __str__(self) -> str:\n",
    "    return f\"(1,l)-es | l:{self.l} | s:{self.s} | e:{self.eras} | r:{self.n_r} | final_p: {self.params} | final_fit: {self.current_fitness}\""
   ]
  },
  {
   "cell_type": "code",
   "execution_count": 11,
   "metadata": {},
   "outputs": [],
   "source": [
    "opo = opo_es([0], 0.1, 100, 20, leave_one_strategy, pure_random)\n",
    "opl = opl_es([0], 10, 0.1, 100, 20, leave_one_strategy, pure_random)\n",
    "ocl = ocl_es([0], 10, 0.1, 100, 20, leave_one_strategy, pure_random)"
   ]
  },
  {
   "cell_type": "code",
   "execution_count": 12,
   "metadata": {},
   "outputs": [
    {
     "name": "stdout",
     "output_type": "stream",
     "text": [
      "current_fitness: 0.055, current_params: [0.4991534964541594]\n",
      "current_fitness: 0.949, current_params: [0.4507188]\n",
      "current_fitness: 0.957, current_params: [0.44176776]\n",
      "current_fitness: 0.969, current_params: [0.37462422]\n"
     ]
    }
   ],
   "source": [
    "opo.optimize()"
   ]
  },
  {
   "cell_type": "code",
   "execution_count": 13,
   "metadata": {},
   "outputs": [
    {
     "name": "stdout",
     "output_type": "stream",
     "text": [
      "current_fitness: 0.961, current_params: [0.3632961380949693]\n",
      "current_fitness: 0.963, current_params: [0.33846289]\n",
      "current_fitness: 0.965, current_params: [0.45678131]\n",
      "current_fitness: 0.968, current_params: [0.37479374]\n",
      "current_fitness: 0.969, current_params: [0.36254104]\n"
     ]
    }
   ],
   "source": [
    "opl.optimize()"
   ]
  },
  {
   "cell_type": "code",
   "execution_count": 14,
   "metadata": {},
   "outputs": [
    {
     "name": "stdout",
     "output_type": "stream",
     "text": [
      "current_fitness: 0.276, current_params: [0.891212445964451]\n",
      "current_fitness: 0.374, current_params: [0.75383131]\n",
      "current_fitness: 0.822, current_params: [0.56737166]\n",
      "current_fitness: 0.958, current_params: [0.45955745]\n",
      "current_fitness: 0.957, current_params: [0.46638954]\n",
      "current_fitness: 0.951, current_params: [0.43438162]\n",
      "current_fitness: 0.95, current_params: [0.33122722]\n",
      "current_fitness: 0.957, current_params: [0.44096]\n",
      "current_fitness: 0.953, current_params: [0.35610216]\n",
      "current_fitness: 0.958, current_params: [0.4546455]\n",
      "current_fitness: 0.946, current_params: [0.43538427]\n",
      "current_fitness: 0.951, current_params: [0.43893019]\n",
      "current_fitness: 0.954, current_params: [0.4657754]\n",
      "current_fitness: 0.958, current_params: [0.47093148]\n",
      "current_fitness: 0.958, current_params: [0.46782512]\n",
      "current_fitness: 0.951, current_params: [0.36461982]\n",
      "current_fitness: 0.956, current_params: [0.36925698]\n",
      "current_fitness: 0.964, current_params: [0.42967203]\n",
      "current_fitness: 0.962, current_params: [0.35818497]\n",
      "current_fitness: 0.96, current_params: [0.35833992]\n",
      "current_fitness: 0.952, current_params: [0.35769606]\n",
      "current_fitness: 0.954, current_params: [0.36215279]\n",
      "current_fitness: 0.961, current_params: [0.44763783]\n",
      "current_fitness: 0.953, current_params: [0.33013113]\n",
      "current_fitness: 0.959, current_params: [0.32841682]\n",
      "current_fitness: 0.96, current_params: [0.34246745]\n",
      "current_fitness: 0.951, current_params: [0.35871361]\n",
      "current_fitness: 0.949, current_params: [0.33647756]\n",
      "current_fitness: 0.968, current_params: [0.36562415]\n",
      "current_fitness: 0.957, current_params: [0.35695026]\n",
      "current_fitness: 0.955, current_params: [0.34179612]\n",
      "current_fitness: 0.965, current_params: [0.32758062]\n",
      "current_fitness: 0.953, current_params: [0.35940878]\n",
      "current_fitness: 0.955, current_params: [0.35997941]\n",
      "current_fitness: 0.96, current_params: [0.37497447]\n",
      "current_fitness: 0.947, current_params: [0.44957782]\n",
      "current_fitness: 0.955, current_params: [0.45604426]\n",
      "current_fitness: 0.961, current_params: [0.34999792]\n",
      "current_fitness: 0.95, current_params: [0.35429951]\n",
      "current_fitness: 0.95, current_params: [0.3627998]\n",
      "current_fitness: 0.958, current_params: [0.43369496]\n",
      "current_fitness: 0.957, current_params: [0.33361549]\n",
      "current_fitness: 0.959, current_params: [0.36077283]\n",
      "current_fitness: 0.96, current_params: [0.33398707]\n",
      "current_fitness: 0.947, current_params: [0.4373828]\n",
      "current_fitness: 0.957, current_params: [0.33007988]\n",
      "current_fitness: 0.947, current_params: [0.25841598]\n",
      "current_fitness: 0.95, current_params: [0.44123596]\n",
      "current_fitness: 0.959, current_params: [0.35072059]\n",
      "current_fitness: 0.95, current_params: [0.24679592]\n",
      "current_fitness: 0.946, current_params: [0.32791941]\n",
      "current_fitness: 0.963, current_params: [0.46945563]\n",
      "current_fitness: 0.958, current_params: [0.43467217]\n",
      "current_fitness: 0.958, current_params: [0.44463503]\n",
      "current_fitness: 0.956, current_params: [0.37082981]\n",
      "current_fitness: 0.961, current_params: [0.32854882]\n",
      "current_fitness: 0.959, current_params: [0.34551566]\n",
      "current_fitness: 0.897, current_params: [0.14301977]\n",
      "current_fitness: 0.921, current_params: [0.13859504]\n",
      "current_fitness: 0.952, current_params: [0.36708205]\n",
      "current_fitness: 0.964, current_params: [0.34299469]\n",
      "current_fitness: 0.952, current_params: [0.36507052]\n",
      "current_fitness: 0.958, current_params: [0.34832138]\n",
      "current_fitness: 0.966, current_params: [0.33575924]\n",
      "current_fitness: 0.96, current_params: [0.36272746]\n",
      "current_fitness: 0.956, current_params: [0.47043288]\n",
      "current_fitness: 0.948, current_params: [0.44027414]\n",
      "current_fitness: 0.955, current_params: [0.45101132]\n",
      "current_fitness: 0.963, current_params: [0.43359573]\n",
      "current_fitness: 0.945, current_params: [0.35025683]\n",
      "current_fitness: 0.954, current_params: [0.45082998]\n",
      "current_fitness: 0.962, current_params: [0.45833429]\n",
      "current_fitness: 0.948, current_params: [0.44770497]\n",
      "current_fitness: 0.843, current_params: [0.55762077]\n",
      "current_fitness: 0.954, current_params: [0.4360122]\n",
      "current_fitness: 0.962, current_params: [0.35324623]\n",
      "current_fitness: 0.962, current_params: [0.43403841]\n",
      "current_fitness: 0.956, current_params: [0.32654296]\n",
      "current_fitness: 0.965, current_params: [0.32900524]\n",
      "current_fitness: 0.96, current_params: [0.33803756]\n",
      "current_fitness: 0.962, current_params: [0.34965444]\n",
      "current_fitness: 0.965, current_params: [0.3250932]\n",
      "current_fitness: 0.957, current_params: [0.37085272]\n",
      "current_fitness: 0.95, current_params: [0.44118055]\n",
      "current_fitness: 0.956, current_params: [0.34544386]\n",
      "current_fitness: 0.965, current_params: [0.35829374]\n",
      "current_fitness: 0.954, current_params: [0.347716]\n",
      "current_fitness: 0.959, current_params: [0.33701895]\n",
      "current_fitness: 0.956, current_params: [0.37184216]\n",
      "current_fitness: 0.949, current_params: [0.43584004]\n",
      "current_fitness: 0.966, current_params: [0.36515014]\n",
      "current_fitness: 0.951, current_params: [0.46540466]\n",
      "current_fitness: 0.962, current_params: [0.36906868]\n",
      "current_fitness: 0.958, current_params: [0.34657163]\n",
      "current_fitness: 0.957, current_params: [0.36894059]\n",
      "current_fitness: 0.958, current_params: [0.35164984]\n",
      "current_fitness: 0.964, current_params: [0.34740577]\n",
      "current_fitness: 0.953, current_params: [0.32628865]\n",
      "current_fitness: 0.955, current_params: [0.36510483]\n",
      "current_fitness: 0.948, current_params: [0.24588965]\n"
     ]
    }
   ],
   "source": [
    "ocl.optimize()"
   ]
  },
  {
   "cell_type": "code",
   "execution_count": 15,
   "metadata": {},
   "outputs": [
    {
     "name": "stdout",
     "output_type": "stream",
     "text": [
      "(1+1)-es | l:1 | s:0.1 | e:100 | r:20 | final_p: [0.37462422]\n",
      "(1+l)-es | l:10 | s:0.1 | e:100 | r:20 | final_p: [0.36254104]\n",
      "(1,l)-es | l:10 | s:0.1 | e:100 | r:20 | final_p: [0.24588965]\n"
     ]
    }
   ],
   "source": [
    "print(opo)\n",
    "print(opl)\n",
    "print(ocl)"
   ]
  },
  {
   "cell_type": "code",
   "execution_count": null,
   "metadata": {},
   "outputs": [],
   "source": []
  }
 ],
 "metadata": {
  "kernelspec": {
   "display_name": "Python 3.10.7 ('ci22-dPIXJ0_o-py3.10')",
   "language": "python",
   "name": "python3"
  },
  "language_info": {
   "codemirror_mode": {
    "name": "ipython",
    "version": 3
   },
   "file_extension": ".py",
   "mimetype": "text/x-python",
   "name": "python",
   "nbconvert_exporter": "python",
   "pygments_lexer": "ipython3",
   "version": "3.11.6"
  },
  "vscode": {
   "interpreter": {
    "hash": "10197e8e2f2aa67e2c349105091c77f4cd384fce4877865f002d9ec653f96bc0"
   }
  }
 },
 "nbformat": 4,
 "nbformat_minor": 2
}
